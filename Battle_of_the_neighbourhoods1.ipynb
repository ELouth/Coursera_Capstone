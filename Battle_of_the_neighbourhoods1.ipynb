{
  "nbformat": 4,
  "nbformat_minor": 0,
  "metadata": {
    "colab": {
      "name": "Battle_of_the_neighbourhoods.ipynb",
      "provenance": [],
      "authorship_tag": "ABX9TyNBjw3tDucFBGEkap62c15O",
      "include_colab_link": true
    },
    "kernelspec": {
      "name": "python3",
      "display_name": "Python 3"
    }
  },
  "cells": [
    {
      "cell_type": "markdown",
      "metadata": {
        "id": "view-in-github",
        "colab_type": "text"
      },
      "source": [
        "<a href=\"https://colab.research.google.com/github/ELouth/Coursera_Capstone/blob/master/Battle_of_the_neighbourhoods1.ipynb\" target=\"_parent\"><img src=\"https://colab.research.google.com/assets/colab-badge.svg\" alt=\"Open In Colab\"/></a>"
      ]
    },
    {
      "cell_type": "markdown",
      "metadata": {
        "id": "WAltf7drWHqn"
      },
      "source": [
        "# Coursera Captstone Project: Battle of the Neighbourhoods\r\n",
        "## Opening an upscale restaurant in Toronto\r\n"
      ]
    },
    {
      "cell_type": "markdown",
      "metadata": {
        "id": "RSGFprgbXq9Z"
      },
      "source": [
        "##Introduction\r\n",
        "\r\n",
        "Opening a restaurant in a large city like Toronto can be challenging. Especially if you are not familiar with the area. I want to open an upscale restaurant somewhere in the downtown area. However, I need to find an area of the city where people are willing to pay premium prices for high-quality food. Therefore, I aim to find which parts of the downtown area of Toronto have expensive restaurants so I can consider also opening my restaurant in an area with sucessful high-priced restaurants. "
      ]
    },
    {
      "cell_type": "markdown",
      "metadata": {
        "id": "WOujA9qBYlPP"
      },
      "source": [
        "## Data\r\n",
        "\r\n",
        "Using Folium and a list of Toronto neighbourhoods available from wikipedia, I will create a map of the Toronto neighbourhoods considered to be in the downtown area.\r\n",
        "\r\n",
        "Foursquare provides information on venues, such as restaurants. They also provide a \"price\" metric for restaurants on a four-point scale ($-$$$$). Therefore, I will use the location and price data to find the neighbourhoods with a large proportion of high ($$$$) priced restaurants. "
      ]
    },
    {
      "cell_type": "code",
      "metadata": {
        "id": "ui7qi0XrXppZ"
      },
      "source": [
        ""
      ],
      "execution_count": null,
      "outputs": []
    }
  ]
}